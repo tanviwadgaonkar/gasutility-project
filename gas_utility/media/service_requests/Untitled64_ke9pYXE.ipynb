{
 "cells": [
  {
   "cell_type": "code",
   "execution_count": 5,
   "id": "d52c3c39-9425-44b2-8c9c-ac22106fd3e4",
   "metadata": {},
   "outputs": [
    {
     "name": "stdin",
     "output_type": "stream",
     "text": [
      " 8\n",
      " i \n",
      " hello\n",
      " how\n",
      " going\n",
      " u\n",
      " whatsapp\n",
      " help\n",
      " hmm\n",
      " 5 5\n"
     ]
    },
    {
     "name": "stdout",
     "output_type": "stream",
     "text": [
      "7\n"
     ]
    }
   ],
   "source": [
    "def Justify_word():\n",
    "    K=int(input())\n",
    "    words=[input().strip() for _ in range(K)]\n",
    "    M,N=map(int,input().split())\n",
    "    valid_words=[word for word in words if len(word)<=M]\n",
    "    memo={}\n",
    "    def place_words(index,lines):\n",
    "        if index==len(valid_words):\n",
    "            return sum(len(line.split()) for line in lines)\n",
    "        key=(index,tuple(lines))\n",
    "        if key in memo:\n",
    "            return memo[key]\n",
    "        current_word=valid_words[index]\n",
    "        max_count=0\n",
    "        i=0\n",
    "        while i<len(lines):\n",
    "            if len(lines[i])+ len(current_word) + (1 if lines[i] else 0) <=M:\n",
    "                original_line=lines[i]\n",
    "                lines[i]+=(' ' if lines[i] else '')+ current_word\n",
    "                max_count=max(max_count,place_words(index+1,lines))\n",
    "                lines[i]=original_line\n",
    "            i+=1\n",
    "        if len(lines)<N:\n",
    "                lines.append(current_word)\n",
    "                max_count=max(max_count,place_words(index+1,lines))\n",
    "                lines.pop()\n",
    "        memo[key]=max_count\n",
    "        return max_count\n",
    "    result=place_words(0,[])\n",
    "    print(result)\n",
    "Justify_word()       \n",
    "                \n"
   ]
  },
  {
   "cell_type": "code",
   "execution_count": null,
   "id": "72f01ae2-3491-4da0-a8c8-faa801bc9a6e",
   "metadata": {},
   "outputs": [],
   "source": []
  }
 ],
 "metadata": {
  "kernelspec": {
   "display_name": "Python 3 (ipykernel)",
   "language": "python",
   "name": "python3"
  },
  "language_info": {
   "codemirror_mode": {
    "name": "ipython",
    "version": 3
   },
   "file_extension": ".py",
   "mimetype": "text/x-python",
   "name": "python",
   "nbconvert_exporter": "python",
   "pygments_lexer": "ipython3",
   "version": "3.12.4"
  }
 },
 "nbformat": 4,
 "nbformat_minor": 5
}
